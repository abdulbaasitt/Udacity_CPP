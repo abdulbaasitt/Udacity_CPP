{
 "cells": [
  {
   "cell_type": "markdown",
   "metadata": {
    "graffitiCellId": "id_8nh5wta"
   },
   "source": [
    "## Streaming `int`s from a `string` with istringstream\n",
    "\n",
    "In C++ strings can be streamed into temporary variables, similarly to how files can be streamed into strings. Streaming a string allows us to work with each character individually.\n",
    "\n",
    "One way to stream a string is to use an input string stream object `istringstream` from the `<sstream>` header. \n",
    "\n",
    "Once an `istringstream` object has been created, parts of the string can be streamed and stored using the \"extraction operator\": `>>`. The extraction operator will read until whitespace is reached or until the stream fails. Execute the following code to see how this works:"
   ]
  },
  {
   "cell_type": "code",
   "execution_count": null,
   "metadata": {
    "graffitiCellId": "id_ba7nvek",
    "graffitiConfig": {
     "executeCellViaGraffiti": "4pd9ib7_gtb4ms0"
    }
   },
   "outputs": [],
   "source": [
    "#include <iostream>\n",
    "#include <sstream>\n",
    "#include <string>\n",
    "\n",
    "using std::istringstream;\n",
    "using std::string;\n",
    "using std::cout;\n",
    "\n",
    "int main () \n",
    "{\n",
    "    string a(\"1 2 3\");\n",
    "\n",
    "    istringstream my_stream(a);\n",
    "\n",
    "    int n;\n",
    "    my_stream >> n;\n",
    "    cout << n << \"\\n\";\n",
    "}"
   ]
  },
  {
   "cell_type": "markdown",
   "metadata": {
    "graffitiCellId": "id_4pd9ib7"
   },
   "source": [
    "<span class=\"graffiti-highlight graffiti-id_4pd9ib7-id_gtb4ms0\"><i></i><button>Compile & Execute</button></span> &nbsp;\n",
    "<span class=\"graffiti-highlight graffiti-id_kmh47eu-id_flh1317\"><i></i><button>Explain</button></span>"
   ]
  },
  {
   "cell_type": "markdown",
   "metadata": {
    "graffitiCellId": "id_8kne4px",
    "graffitiConfig": {
     "rows": 6,
     "terminalId": "id_8ktuztw",
     "type": "terminal"
    }
   },
   "source": [
    "<i>Loading terminal (id_8kne4px), please wait...</i>"
   ]
  },
  {
   "cell_type": "markdown",
   "metadata": {
    "graffitiCellId": "id_tcqm7o3"
   },
   "source": [
    "The `istringstream` object can also be used as a boolean to determine if the last extraction operation failed - this happens if there wasn't any more of the string to stream, for example. If the stream still has more characters, you are able to stream again. See the following code for an example of using the `istringstream` this way:"
   ]
  },
  {
   "cell_type": "code",
   "execution_count": null,
   "metadata": {
    "graffitiCellId": "id_ez9m32p",
    "graffitiConfig": {
     "executeCellViaGraffiti": "ckczl1i_xgvtn1p"
    }
   },
   "outputs": [],
   "source": [
    "#include <iostream>\n",
    "#include <sstream>\n",
    "#include <string>\n",
    "\n",
    "using std::istringstream;\n",
    "using std::string;\n",
    "using std::cout;\n",
    "\n",
    "int main() \n",
    "{\n",
    "    string a(\"1 2 3\");\n",
    "\n",
    "    istringstream my_stream(a);\n",
    "\n",
    "    int n;\n",
    "    \n",
    "    // Testing to see if the stream was successful and printing results.\n",
    "    while (my_stream) {\n",
    "        my_stream >> n;\n",
    "        if (my_stream) {\n",
    "            cout << \"That stream was successful: \" << n << \"\\n\";\n",
    "        }\n",
    "        else {\n",
    "            cout << \"That stream was NOT successful!\" << \"\\n\";            \n",
    "        }\n",
    "    }\n",
    "}"
   ]
  },
  {
   "cell_type": "markdown",
   "metadata": {
    "graffitiCellId": "id_ckczl1i"
   },
   "source": [
    "<span class=\"graffiti-highlight graffiti-id_ckczl1i-id_xgvtn1p\"><i></i><button>Compile & Execute</button></span> &nbsp; <span class=\"graffiti-highlight graffiti-id_tvmc8au-id_8wnf73i\"><i></i><button>Explain</button></span>"
   ]
  },
  {
   "cell_type": "markdown",
   "metadata": {
    "graffitiCellId": "id_wdhmkw0",
    "graffitiConfig": {
     "rows": 6,
     "terminalId": "id_oggxsib",
     "type": "terminal"
    }
   },
   "source": [
    "<i>Loading terminal (id_wdhmkw0), please wait...</i>"
   ]
  },
  {
   "cell_type": "markdown",
   "metadata": {
    "graffitiCellId": "id_0uzk0yo"
   },
   "source": [
    "The extraction operator `>>` writes the stream to the variable on the right of the operator and returns the `istringstream` object, so the entire expression `my_stream >> n` is an `istringstream` object and can be used as a boolean! Because of this, a common way to use `istringstream` is to use the entire extraction expression in a while loop as follows:"
   ]
  },
  {
   "cell_type": "code",
   "execution_count": null,
   "metadata": {
    "graffitiCellId": "id_5hbj5w6",
    "graffitiConfig": {
     "executeCellViaGraffiti": "7qu45sv_a8jag0t"
    }
   },
   "outputs": [],
   "source": [
    "#include <iostream>\n",
    "#include <sstream>\n",
    "#include <string>\n",
    "\n",
    "using std::istringstream;\n",
    "using std::string;\n",
    "using std::cout;\n",
    "\n",
    "int main () {\n",
    "    string a(\"1 2 3\");\n",
    "\n",
    "    istringstream my_stream(a);\n",
    "    \n",
    "    int n;\n",
    "    \n",
    "    while (my_stream >> n) {\n",
    "      cout << \"That stream was successful: \" << n << \"\\n\";\n",
    "    }\n",
    "    cout << \"The stream has failed.\" << \"\\n\";\n",
    "    \n",
    "}"
   ]
  },
  {
   "cell_type": "markdown",
   "metadata": {
    "graffitiCellId": "id_7qu45sv"
   },
   "source": [
    "<span class=\"graffiti-highlight graffiti-id_7qu45sv-id_a8jag0t\"><i></i><button>Compile & Execute</button></span> &nbsp; <span class=\"graffiti-highlight graffiti-id_20tc29v-id_jujja5d\"><i></i><button>Explain</button></span>"
   ]
  },
  {
   "cell_type": "markdown",
   "metadata": {
    "graffitiCellId": "id_q8np8yh",
    "graffitiConfig": {
     "rows": 6,
     "terminalId": "id_jf3gj0e",
     "type": "terminal"
    }
   },
   "source": [
    "<i>Loading terminal (id_q8np8yh), please wait...</i>"
   ]
  },
  {
   "cell_type": "markdown",
   "metadata": {
    "graffitiCellId": "id_m4q52ua"
   },
   "source": [
    "### Strings with Mixed Types\n",
    "\n",
    "In the stream example above, the string contained only whitespaces and characters which could be converted to `int`s. If the string has mixed types, more care is needed to process the string. In the following example, the type `char` is used, which is a type that can hold only a single ASCII character."
   ]
  },
  {
   "cell_type": "code",
   "execution_count": null,
   "metadata": {
    "graffitiCellId": "id_45mq301",
    "graffitiConfig": {
     "executeCellViaGraffiti": "6f54py6_2de9w7y"
    }
   },
   "outputs": [],
   "source": [
    "#include <iostream>\n",
    "#include <sstream>\n",
    "#include <string>\n",
    "\n",
    "using std::istringstream;\n",
    "using std::string;\n",
    "using std::cout;\n",
    "\n",
    "int main() \n",
    "{\n",
    "    string b(\"1,2,3\");\n",
    "\n",
    "    istringstream my_stream(b);\n",
    "\n",
    "    char c;\n",
    "    int n;\n",
    "\n",
    "    while (my_stream >> n >> c) {\n",
    "      cout << \"That stream was successful:\" << n << \" \" << c << \"\\n\";\n",
    "    }\n",
    "    cout << \"The stream has failed.\" << \"\\n\";\n",
    "}"
   ]
  },
  {
   "cell_type": "markdown",
   "metadata": {
    "graffitiCellId": "id_6f54py6"
   },
   "source": [
    "<span class=\"graffiti-highlight graffiti-id_6f54py6-id_2de9w7y\"><i></i><button>Compile & Execute</button></span> &nbsp; <span class=\"graffiti-highlight graffiti-id_520ln09-id_k2ukq8r\"><i></i><button>Explain</button></span>"
   ]
  },
  {
   "cell_type": "markdown",
   "metadata": {
    "graffitiCellId": "id_g5k09ja",
    "graffitiConfig": {
     "rows": 6,
     "terminalId": "id_tdob0q5",
     "type": "terminal"
    }
   },
   "source": [
    "<i>Loading terminal (id_g5k09ja), please wait...</i>"
   ]
  },
  {
   "cell_type": "markdown",
   "metadata": {
    "graffitiCellId": "id_abvuf0k"
   },
   "source": [
    "In that example, notice that the `3` was not printed! The expression: \n",
    "```\n",
    "my_stream >> n >> c\n",
    "``` \n",
    "tried to stream an `int` followed by a `char`. Since there was no `char` after the `3`, the stream failed and the `while` loop exited."
   ]
  }
 ],
 "metadata": {
  "graffiti": {
   "firstAuthorId": "813558546",
   "id": "id_jvv9a24",
   "language": "EN"
  },
  "kernelspec": {
   "display_name": "C++17",
   "language": "C++17",
   "name": "xeus-cling-cpp17"
  },
  "language_info": {
   "codemirror_mode": "text/x-c++src",
   "file_extension": ".cpp",
   "mimetype": "text/x-c++src",
   "name": "c++",
   "version": "-std=c++17"
  },
  "udacity": {
   "header": {
    "hidden": true
   },
   "menubar": {
    "hidden": true
   },
   "toolbar": {
    "hidden": true
   }
  }
 },
 "nbformat": 4,
 "nbformat_minor": 2
}
